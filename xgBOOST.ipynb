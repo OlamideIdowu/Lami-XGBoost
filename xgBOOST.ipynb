{
  "cells": [
    {
      "cell_type": "code",
      "execution_count": 2,
      "metadata": {
        "id": "v0_j7H9ZP2Zf"
      },
      "outputs": [],
      "source": [
        "import pandas as pd\n",
        "import numpy as np"
      ]
    },
    {
      "cell_type": "code",
      "execution_count": 3,
      "metadata": {
        "id": "XEGF95s4QDJ1"
      },
      "outputs": [],
      "source": [
        "import xgboost as xgb"
      ]
    },
    {
      "cell_type": "code",
      "execution_count": 5,
      "metadata": {
        "colab": {
          "base_uri": "https://localhost:8080/"
        },
        "id": "TVax7iH6RpJw",
        "outputId": "75568050-08df-475e-b225-a8bd5e908d49"
      },
      "outputs": [
        {
          "output_type": "stream",
          "name": "stdout",
          "text": [
            "Mounted at /content/drive\n"
          ]
        }
      ],
      "source": [
        "from google.colab import drive\n",
        "drive.mount('/content/drive')"
      ]
    },
    {
      "cell_type": "code",
      "execution_count": 6,
      "metadata": {
        "colab": {
          "base_uri": "https://localhost:8080/",
          "height": 394
        },
        "id": "bSZaNR_BQjdk",
        "outputId": "2c81ac01-a88d-40ac-d831-9a0235cf0632"
      },
      "outputs": [
        {
          "output_type": "execute_result",
          "data": {
            "text/plain": [
              "  Patient ID  Age     Sex  Cholesterol Blood Pressure  Heart Rate  Diabetes  \\\n",
              "0    BMW7812   67    Male          208         158/88          72         0   \n",
              "1    CZE1114   21    Male          389         165/93          98         1   \n",
              "2    BNI9906   21  Female          324         174/99          72         1   \n",
              "3    JLN3497   84    Male          383        163/100          73         1   \n",
              "4    GFO8847   66    Male          318          91/88          93         1   \n",
              "\n",
              "   Family History  Smoking  Obesity  ...  Sedentary Hours Per Day  Income  \\\n",
              "0               0        1        0  ...                 6.615001  261404   \n",
              "1               1        1        1  ...                 4.963459  285768   \n",
              "2               0        0        0  ...                 9.463426  235282   \n",
              "3               1        1        0  ...                 7.648981  125640   \n",
              "4               1        1        1  ...                 1.514821  160555   \n",
              "\n",
              "         BMI  Triglycerides  Physical Activity Days Per Week  \\\n",
              "0  31.251233            286                                0   \n",
              "1  27.194973            235                                1   \n",
              "2  28.176571            587                                4   \n",
              "3  36.464704            378                                3   \n",
              "4  21.809144            231                                1   \n",
              "\n",
              "   Sleep Hours Per Day    Country      Continent           Hemisphere  \\\n",
              "0                    6  Argentina  South America  Southern Hemisphere   \n",
              "1                    7     Canada  North America  Northern Hemisphere   \n",
              "2                    4     France         Europe  Northern Hemisphere   \n",
              "3                    4     Canada  North America  Northern Hemisphere   \n",
              "4                    5   Thailand           Asia  Northern Hemisphere   \n",
              "\n",
              "   Heart Attack Risk  \n",
              "0                  0  \n",
              "1                  0  \n",
              "2                  0  \n",
              "3                  0  \n",
              "4                  0  \n",
              "\n",
              "[5 rows x 26 columns]"
            ],
            "text/html": [
              "\n",
              "  <div id=\"df-426cf0b9-a63f-4cc5-b311-976190d90f2c\" class=\"colab-df-container\">\n",
              "    <div>\n",
              "<style scoped>\n",
              "    .dataframe tbody tr th:only-of-type {\n",
              "        vertical-align: middle;\n",
              "    }\n",
              "\n",
              "    .dataframe tbody tr th {\n",
              "        vertical-align: top;\n",
              "    }\n",
              "\n",
              "    .dataframe thead th {\n",
              "        text-align: right;\n",
              "    }\n",
              "</style>\n",
              "<table border=\"1\" class=\"dataframe\">\n",
              "  <thead>\n",
              "    <tr style=\"text-align: right;\">\n",
              "      <th></th>\n",
              "      <th>Patient ID</th>\n",
              "      <th>Age</th>\n",
              "      <th>Sex</th>\n",
              "      <th>Cholesterol</th>\n",
              "      <th>Blood Pressure</th>\n",
              "      <th>Heart Rate</th>\n",
              "      <th>Diabetes</th>\n",
              "      <th>Family History</th>\n",
              "      <th>Smoking</th>\n",
              "      <th>Obesity</th>\n",
              "      <th>...</th>\n",
              "      <th>Sedentary Hours Per Day</th>\n",
              "      <th>Income</th>\n",
              "      <th>BMI</th>\n",
              "      <th>Triglycerides</th>\n",
              "      <th>Physical Activity Days Per Week</th>\n",
              "      <th>Sleep Hours Per Day</th>\n",
              "      <th>Country</th>\n",
              "      <th>Continent</th>\n",
              "      <th>Hemisphere</th>\n",
              "      <th>Heart Attack Risk</th>\n",
              "    </tr>\n",
              "  </thead>\n",
              "  <tbody>\n",
              "    <tr>\n",
              "      <th>0</th>\n",
              "      <td>BMW7812</td>\n",
              "      <td>67</td>\n",
              "      <td>Male</td>\n",
              "      <td>208</td>\n",
              "      <td>158/88</td>\n",
              "      <td>72</td>\n",
              "      <td>0</td>\n",
              "      <td>0</td>\n",
              "      <td>1</td>\n",
              "      <td>0</td>\n",
              "      <td>...</td>\n",
              "      <td>6.615001</td>\n",
              "      <td>261404</td>\n",
              "      <td>31.251233</td>\n",
              "      <td>286</td>\n",
              "      <td>0</td>\n",
              "      <td>6</td>\n",
              "      <td>Argentina</td>\n",
              "      <td>South America</td>\n",
              "      <td>Southern Hemisphere</td>\n",
              "      <td>0</td>\n",
              "    </tr>\n",
              "    <tr>\n",
              "      <th>1</th>\n",
              "      <td>CZE1114</td>\n",
              "      <td>21</td>\n",
              "      <td>Male</td>\n",
              "      <td>389</td>\n",
              "      <td>165/93</td>\n",
              "      <td>98</td>\n",
              "      <td>1</td>\n",
              "      <td>1</td>\n",
              "      <td>1</td>\n",
              "      <td>1</td>\n",
              "      <td>...</td>\n",
              "      <td>4.963459</td>\n",
              "      <td>285768</td>\n",
              "      <td>27.194973</td>\n",
              "      <td>235</td>\n",
              "      <td>1</td>\n",
              "      <td>7</td>\n",
              "      <td>Canada</td>\n",
              "      <td>North America</td>\n",
              "      <td>Northern Hemisphere</td>\n",
              "      <td>0</td>\n",
              "    </tr>\n",
              "    <tr>\n",
              "      <th>2</th>\n",
              "      <td>BNI9906</td>\n",
              "      <td>21</td>\n",
              "      <td>Female</td>\n",
              "      <td>324</td>\n",
              "      <td>174/99</td>\n",
              "      <td>72</td>\n",
              "      <td>1</td>\n",
              "      <td>0</td>\n",
              "      <td>0</td>\n",
              "      <td>0</td>\n",
              "      <td>...</td>\n",
              "      <td>9.463426</td>\n",
              "      <td>235282</td>\n",
              "      <td>28.176571</td>\n",
              "      <td>587</td>\n",
              "      <td>4</td>\n",
              "      <td>4</td>\n",
              "      <td>France</td>\n",
              "      <td>Europe</td>\n",
              "      <td>Northern Hemisphere</td>\n",
              "      <td>0</td>\n",
              "    </tr>\n",
              "    <tr>\n",
              "      <th>3</th>\n",
              "      <td>JLN3497</td>\n",
              "      <td>84</td>\n",
              "      <td>Male</td>\n",
              "      <td>383</td>\n",
              "      <td>163/100</td>\n",
              "      <td>73</td>\n",
              "      <td>1</td>\n",
              "      <td>1</td>\n",
              "      <td>1</td>\n",
              "      <td>0</td>\n",
              "      <td>...</td>\n",
              "      <td>7.648981</td>\n",
              "      <td>125640</td>\n",
              "      <td>36.464704</td>\n",
              "      <td>378</td>\n",
              "      <td>3</td>\n",
              "      <td>4</td>\n",
              "      <td>Canada</td>\n",
              "      <td>North America</td>\n",
              "      <td>Northern Hemisphere</td>\n",
              "      <td>0</td>\n",
              "    </tr>\n",
              "    <tr>\n",
              "      <th>4</th>\n",
              "      <td>GFO8847</td>\n",
              "      <td>66</td>\n",
              "      <td>Male</td>\n",
              "      <td>318</td>\n",
              "      <td>91/88</td>\n",
              "      <td>93</td>\n",
              "      <td>1</td>\n",
              "      <td>1</td>\n",
              "      <td>1</td>\n",
              "      <td>1</td>\n",
              "      <td>...</td>\n",
              "      <td>1.514821</td>\n",
              "      <td>160555</td>\n",
              "      <td>21.809144</td>\n",
              "      <td>231</td>\n",
              "      <td>1</td>\n",
              "      <td>5</td>\n",
              "      <td>Thailand</td>\n",
              "      <td>Asia</td>\n",
              "      <td>Northern Hemisphere</td>\n",
              "      <td>0</td>\n",
              "    </tr>\n",
              "  </tbody>\n",
              "</table>\n",
              "<p>5 rows × 26 columns</p>\n",
              "</div>\n",
              "    <div class=\"colab-df-buttons\">\n",
              "\n",
              "  <div class=\"colab-df-container\">\n",
              "    <button class=\"colab-df-convert\" onclick=\"convertToInteractive('df-426cf0b9-a63f-4cc5-b311-976190d90f2c')\"\n",
              "            title=\"Convert this dataframe to an interactive table.\"\n",
              "            style=\"display:none;\">\n",
              "\n",
              "  <svg xmlns=\"http://www.w3.org/2000/svg\" height=\"24px\" viewBox=\"0 -960 960 960\">\n",
              "    <path d=\"M120-120v-720h720v720H120Zm60-500h600v-160H180v160Zm220 220h160v-160H400v160Zm0 220h160v-160H400v160ZM180-400h160v-160H180v160Zm440 0h160v-160H620v160ZM180-180h160v-160H180v160Zm440 0h160v-160H620v160Z\"/>\n",
              "  </svg>\n",
              "    </button>\n",
              "\n",
              "  <style>\n",
              "    .colab-df-container {\n",
              "      display:flex;\n",
              "      gap: 12px;\n",
              "    }\n",
              "\n",
              "    .colab-df-convert {\n",
              "      background-color: #E8F0FE;\n",
              "      border: none;\n",
              "      border-radius: 50%;\n",
              "      cursor: pointer;\n",
              "      display: none;\n",
              "      fill: #1967D2;\n",
              "      height: 32px;\n",
              "      padding: 0 0 0 0;\n",
              "      width: 32px;\n",
              "    }\n",
              "\n",
              "    .colab-df-convert:hover {\n",
              "      background-color: #E2EBFA;\n",
              "      box-shadow: 0px 1px 2px rgba(60, 64, 67, 0.3), 0px 1px 3px 1px rgba(60, 64, 67, 0.15);\n",
              "      fill: #174EA6;\n",
              "    }\n",
              "\n",
              "    .colab-df-buttons div {\n",
              "      margin-bottom: 4px;\n",
              "    }\n",
              "\n",
              "    [theme=dark] .colab-df-convert {\n",
              "      background-color: #3B4455;\n",
              "      fill: #D2E3FC;\n",
              "    }\n",
              "\n",
              "    [theme=dark] .colab-df-convert:hover {\n",
              "      background-color: #434B5C;\n",
              "      box-shadow: 0px 1px 3px 1px rgba(0, 0, 0, 0.15);\n",
              "      filter: drop-shadow(0px 1px 2px rgba(0, 0, 0, 0.3));\n",
              "      fill: #FFFFFF;\n",
              "    }\n",
              "  </style>\n",
              "\n",
              "    <script>\n",
              "      const buttonEl =\n",
              "        document.querySelector('#df-426cf0b9-a63f-4cc5-b311-976190d90f2c button.colab-df-convert');\n",
              "      buttonEl.style.display =\n",
              "        google.colab.kernel.accessAllowed ? 'block' : 'none';\n",
              "\n",
              "      async function convertToInteractive(key) {\n",
              "        const element = document.querySelector('#df-426cf0b9-a63f-4cc5-b311-976190d90f2c');\n",
              "        const dataTable =\n",
              "          await google.colab.kernel.invokeFunction('convertToInteractive',\n",
              "                                                    [key], {});\n",
              "        if (!dataTable) return;\n",
              "\n",
              "        const docLinkHtml = 'Like what you see? Visit the ' +\n",
              "          '<a target=\"_blank\" href=https://colab.research.google.com/notebooks/data_table.ipynb>data table notebook</a>'\n",
              "          + ' to learn more about interactive tables.';\n",
              "        element.innerHTML = '';\n",
              "        dataTable['output_type'] = 'display_data';\n",
              "        await google.colab.output.renderOutput(dataTable, element);\n",
              "        const docLink = document.createElement('div');\n",
              "        docLink.innerHTML = docLinkHtml;\n",
              "        element.appendChild(docLink);\n",
              "      }\n",
              "    </script>\n",
              "  </div>\n",
              "\n",
              "\n",
              "<div id=\"df-174eaecf-27fc-475b-bd73-23fd2cf566c5\">\n",
              "  <button class=\"colab-df-quickchart\" onclick=\"quickchart('df-174eaecf-27fc-475b-bd73-23fd2cf566c5')\"\n",
              "            title=\"Suggest charts\"\n",
              "            style=\"display:none;\">\n",
              "\n",
              "<svg xmlns=\"http://www.w3.org/2000/svg\" height=\"24px\"viewBox=\"0 0 24 24\"\n",
              "     width=\"24px\">\n",
              "    <g>\n",
              "        <path d=\"M19 3H5c-1.1 0-2 .9-2 2v14c0 1.1.9 2 2 2h14c1.1 0 2-.9 2-2V5c0-1.1-.9-2-2-2zM9 17H7v-7h2v7zm4 0h-2V7h2v10zm4 0h-2v-4h2v4z\"/>\n",
              "    </g>\n",
              "</svg>\n",
              "  </button>\n",
              "\n",
              "<style>\n",
              "  .colab-df-quickchart {\n",
              "      --bg-color: #E8F0FE;\n",
              "      --fill-color: #1967D2;\n",
              "      --hover-bg-color: #E2EBFA;\n",
              "      --hover-fill-color: #174EA6;\n",
              "      --disabled-fill-color: #AAA;\n",
              "      --disabled-bg-color: #DDD;\n",
              "  }\n",
              "\n",
              "  [theme=dark] .colab-df-quickchart {\n",
              "      --bg-color: #3B4455;\n",
              "      --fill-color: #D2E3FC;\n",
              "      --hover-bg-color: #434B5C;\n",
              "      --hover-fill-color: #FFFFFF;\n",
              "      --disabled-bg-color: #3B4455;\n",
              "      --disabled-fill-color: #666;\n",
              "  }\n",
              "\n",
              "  .colab-df-quickchart {\n",
              "    background-color: var(--bg-color);\n",
              "    border: none;\n",
              "    border-radius: 50%;\n",
              "    cursor: pointer;\n",
              "    display: none;\n",
              "    fill: var(--fill-color);\n",
              "    height: 32px;\n",
              "    padding: 0;\n",
              "    width: 32px;\n",
              "  }\n",
              "\n",
              "  .colab-df-quickchart:hover {\n",
              "    background-color: var(--hover-bg-color);\n",
              "    box-shadow: 0 1px 2px rgba(60, 64, 67, 0.3), 0 1px 3px 1px rgba(60, 64, 67, 0.15);\n",
              "    fill: var(--button-hover-fill-color);\n",
              "  }\n",
              "\n",
              "  .colab-df-quickchart-complete:disabled,\n",
              "  .colab-df-quickchart-complete:disabled:hover {\n",
              "    background-color: var(--disabled-bg-color);\n",
              "    fill: var(--disabled-fill-color);\n",
              "    box-shadow: none;\n",
              "  }\n",
              "\n",
              "  .colab-df-spinner {\n",
              "    border: 2px solid var(--fill-color);\n",
              "    border-color: transparent;\n",
              "    border-bottom-color: var(--fill-color);\n",
              "    animation:\n",
              "      spin 1s steps(1) infinite;\n",
              "  }\n",
              "\n",
              "  @keyframes spin {\n",
              "    0% {\n",
              "      border-color: transparent;\n",
              "      border-bottom-color: var(--fill-color);\n",
              "      border-left-color: var(--fill-color);\n",
              "    }\n",
              "    20% {\n",
              "      border-color: transparent;\n",
              "      border-left-color: var(--fill-color);\n",
              "      border-top-color: var(--fill-color);\n",
              "    }\n",
              "    30% {\n",
              "      border-color: transparent;\n",
              "      border-left-color: var(--fill-color);\n",
              "      border-top-color: var(--fill-color);\n",
              "      border-right-color: var(--fill-color);\n",
              "    }\n",
              "    40% {\n",
              "      border-color: transparent;\n",
              "      border-right-color: var(--fill-color);\n",
              "      border-top-color: var(--fill-color);\n",
              "    }\n",
              "    60% {\n",
              "      border-color: transparent;\n",
              "      border-right-color: var(--fill-color);\n",
              "    }\n",
              "    80% {\n",
              "      border-color: transparent;\n",
              "      border-right-color: var(--fill-color);\n",
              "      border-bottom-color: var(--fill-color);\n",
              "    }\n",
              "    90% {\n",
              "      border-color: transparent;\n",
              "      border-bottom-color: var(--fill-color);\n",
              "    }\n",
              "  }\n",
              "</style>\n",
              "\n",
              "  <script>\n",
              "    async function quickchart(key) {\n",
              "      const quickchartButtonEl =\n",
              "        document.querySelector('#' + key + ' button');\n",
              "      quickchartButtonEl.disabled = true;  // To prevent multiple clicks.\n",
              "      quickchartButtonEl.classList.add('colab-df-spinner');\n",
              "      try {\n",
              "        const charts = await google.colab.kernel.invokeFunction(\n",
              "            'suggestCharts', [key], {});\n",
              "      } catch (error) {\n",
              "        console.error('Error during call to suggestCharts:', error);\n",
              "      }\n",
              "      quickchartButtonEl.classList.remove('colab-df-spinner');\n",
              "      quickchartButtonEl.classList.add('colab-df-quickchart-complete');\n",
              "    }\n",
              "    (() => {\n",
              "      let quickchartButtonEl =\n",
              "        document.querySelector('#df-174eaecf-27fc-475b-bd73-23fd2cf566c5 button');\n",
              "      quickchartButtonEl.style.display =\n",
              "        google.colab.kernel.accessAllowed ? 'block' : 'none';\n",
              "    })();\n",
              "  </script>\n",
              "</div>\n",
              "\n",
              "    </div>\n",
              "  </div>\n"
            ],
            "application/vnd.google.colaboratory.intrinsic+json": {
              "type": "dataframe",
              "variable_name": "df"
            }
          },
          "metadata": {},
          "execution_count": 6
        }
      ],
      "source": [
        "df = pd.read_csv(\"/content/drive/My Drive/data/heart_attack_prediction_dataset.csv\")\n",
        "df.head()"
      ]
    },
    {
      "cell_type": "code",
      "execution_count": 7,
      "metadata": {
        "colab": {
          "base_uri": "https://localhost:8080/"
        },
        "id": "N0cH9s3DSds1",
        "outputId": "b736bce9-5aa3-49cb-84ce-4eac5edb79e2"
      },
      "outputs": [
        {
          "output_type": "stream",
          "name": "stdout",
          "text": [
            "<class 'pandas.core.frame.DataFrame'>\n",
            "RangeIndex: 8763 entries, 0 to 8762\n",
            "Data columns (total 24 columns):\n",
            " #   Column                           Non-Null Count  Dtype  \n",
            "---  ------                           --------------  -----  \n",
            " 0   Age                              8763 non-null   int64  \n",
            " 1   Sex                              8763 non-null   object \n",
            " 2   Cholesterol                      8763 non-null   int64  \n",
            " 3   Heart Rate                       8763 non-null   int64  \n",
            " 4   Diabetes                         8763 non-null   int64  \n",
            " 5   Family History                   8763 non-null   int64  \n",
            " 6   Smoking                          8763 non-null   int64  \n",
            " 7   Obesity                          8763 non-null   int64  \n",
            " 8   Alcohol Consumption              8763 non-null   int64  \n",
            " 9   Exercise Hours Per Week          8763 non-null   float64\n",
            " 10  Diet                             8763 non-null   object \n",
            " 11  Previous Heart Problems          8763 non-null   int64  \n",
            " 12  Medication Use                   8763 non-null   int64  \n",
            " 13  Stress Level                     8763 non-null   int64  \n",
            " 14  Sedentary Hours Per Day          8763 non-null   float64\n",
            " 15  Income                           8763 non-null   int64  \n",
            " 16  BMI                              8763 non-null   float64\n",
            " 17  Triglycerides                    8763 non-null   int64  \n",
            " 18  Physical Activity Days Per Week  8763 non-null   int64  \n",
            " 19  Sleep Hours Per Day              8763 non-null   int64  \n",
            " 20  Country                          8763 non-null   object \n",
            " 21  Heart Attack Risk                8763 non-null   int64  \n",
            " 22  systolic                         8763 non-null   int64  \n",
            " 23  diastolic                        8763 non-null   int64  \n",
            "dtypes: float64(3), int64(18), object(3)\n",
            "memory usage: 1.6+ MB\n"
          ]
        }
      ],
      "source": [
        "df = df.drop(columns = [\"Patient ID\", \"Continent\", \"Hemisphere\"])\n",
        "df[['systolic', 'diastolic']] = df['Blood Pressure'].str.split('/', expand=True).astype(int)\n",
        "df = df.drop(columns = [\"Blood Pressure\"])\n",
        "df.info()"
      ]
    },
    {
      "cell_type": "code",
      "execution_count": 8,
      "metadata": {
        "colab": {
          "base_uri": "https://localhost:8080/"
        },
        "id": "n1aSvtH7S3ZK",
        "outputId": "a4683b3c-b072-4a7a-a2f2-5eb395c9a9de"
      },
      "outputs": [
        {
          "output_type": "stream",
          "name": "stdout",
          "text": [
            "<class 'pandas.core.frame.DataFrame'>\n",
            "RangeIndex: 8763 entries, 0 to 8762\n",
            "Data columns (total 24 columns):\n",
            " #   Column                           Non-Null Count  Dtype  \n",
            "---  ------                           --------------  -----  \n",
            " 0   Age                              8763 non-null   int64  \n",
            " 1   Sex                              8763 non-null   int64  \n",
            " 2   Cholesterol                      8763 non-null   int64  \n",
            " 3   Heart Rate                       8763 non-null   int64  \n",
            " 4   Diabetes                         8763 non-null   int64  \n",
            " 5   Family History                   8763 non-null   int64  \n",
            " 6   Smoking                          8763 non-null   int64  \n",
            " 7   Obesity                          8763 non-null   int64  \n",
            " 8   Alcohol Consumption              8763 non-null   int64  \n",
            " 9   Exercise Hours Per Week          8763 non-null   float64\n",
            " 10  Diet                             8763 non-null   int64  \n",
            " 11  Previous Heart Problems          8763 non-null   int64  \n",
            " 12  Medication Use                   8763 non-null   int64  \n",
            " 13  Stress Level                     8763 non-null   int64  \n",
            " 14  Sedentary Hours Per Day          8763 non-null   float64\n",
            " 15  Income                           8763 non-null   int64  \n",
            " 16  BMI                              8763 non-null   float64\n",
            " 17  Triglycerides                    8763 non-null   int64  \n",
            " 18  Physical Activity Days Per Week  8763 non-null   int64  \n",
            " 19  Sleep Hours Per Day              8763 non-null   int64  \n",
            " 20  Country                          8763 non-null   int64  \n",
            " 21  Heart Attack Risk                8763 non-null   int64  \n",
            " 22  systolic                         8763 non-null   int64  \n",
            " 23  diastolic                        8763 non-null   int64  \n",
            "dtypes: float64(3), int64(21)\n",
            "memory usage: 1.6 MB\n"
          ]
        }
      ],
      "source": [
        "from sklearn.preprocessing import LabelEncoder\n",
        "encoder = LabelEncoder()\n",
        "columns_to_encode = [\"Sex\", \"Diet\", \"Country\"]\n",
        "for col in columns_to_encode:\n",
        "  df[col] = encoder.fit_transform(df[col])\n",
        "df.info()"
      ]
    },
    {
      "cell_type": "code",
      "execution_count": 9,
      "metadata": {
        "id": "WwnXbLByS9v-"
      },
      "outputs": [],
      "source": [
        "X = df.drop(columns = [\"Heart Attack Risk\"])\n",
        "y = df[\"Heart Attack Risk\"]"
      ]
    },
    {
      "cell_type": "markdown",
      "metadata": {
        "id": "-3-ZEXJDTCgh"
      },
      "source": [
        "**XGBOOST**"
      ]
    },
    {
      "cell_type": "code",
      "execution_count": 131,
      "metadata": {
        "id": "3Zwb5F2zUnru"
      },
      "outputs": [],
      "source": [
        "from sklearn.model_selection import train_test_split\n",
        "X_train, X_test, y_train, y_test = train_test_split(X, y, test_size = 0.2, random_state = 43, stratify = y)"
      ]
    },
    {
      "cell_type": "code",
      "execution_count": 132,
      "metadata": {
        "id": "4Cc7CfNCTAXZ"
      },
      "outputs": [],
      "source": [
        "import xgboost as xgb\n",
        "from sklearn.model_selection import RandomizedSearchCV, GridSearchCV"
      ]
    },
    {
      "cell_type": "code",
      "execution_count": 133,
      "metadata": {
        "id": "FT0G7LDaWuPK"
      },
      "outputs": [],
      "source": [
        "from sklearn.metrics import accuracy_score"
      ]
    },
    {
      "cell_type": "code",
      "execution_count": 134,
      "metadata": {
        "id": "Z0tT5KchTFrN"
      },
      "outputs": [],
      "source": [
        "parameters_grid = {\n",
        "    'max_depth': [2, 4, 6, 8, 10],\n",
        "    'learning_rate': [0.01, 0.02, 0.04, 0.06, 0.08, 1.0],\n",
        "    'n_estimators': [10, 20, 30, 40, 50, 60, 70 , 80 , 90],\n",
        "    'subsample': [0.5, 0.6, 0.7, 0.8, 0.9, 1.0],\n",
        "    'colsample_bytree': [0.5, 0.6, 0.7, 0.8, 0.9, 1.0]\n",
        "}\n"
      ]
    },
    {
      "cell_type": "markdown",
      "metadata": {
        "id": "umzPg9qRWSPs"
      },
      "source": [
        "**USING RANDOMIZEDSEARCHCV**"
      ]
    },
    {
      "cell_type": "code",
      "execution_count": 135,
      "metadata": {
        "id": "mi8KiUXwUHxc"
      },
      "outputs": [],
      "source": [
        "xgb = xgb.XGBClassifier()\n",
        "r_xgb = RandomizedSearchCV(xgb, parameters_grid, cv=5, scoring='accuracy', n_iter=10, random_state = 42, verbose = 3)"
      ]
    },
    {
      "cell_type": "code",
      "execution_count": 150,
      "metadata": {
        "colab": {
          "base_uri": "https://localhost:8080/",
          "height": 1000
        },
        "id": "y7lsS9CcUkn8",
        "outputId": "09f9c773-552a-4a38-edd0-c20a89edc33c"
      },
      "outputs": [
        {
          "output_type": "stream",
          "name": "stdout",
          "text": [
            "Fitting 5 folds for each of 10 candidates, totalling 50 fits\n",
            "[CV 1/5] END colsample_bytree=0.9, learning_rate=0.04, max_depth=10, n_estimators=60, subsample=0.9;, score=0.636 total time=  12.1s\n",
            "[CV 2/5] END colsample_bytree=0.9, learning_rate=0.04, max_depth=10, n_estimators=60, subsample=0.9;, score=0.635 total time=   2.7s\n",
            "[CV 3/5] END colsample_bytree=0.9, learning_rate=0.04, max_depth=10, n_estimators=60, subsample=0.9;, score=0.637 total time=   0.6s\n",
            "[CV 4/5] END colsample_bytree=0.9, learning_rate=0.04, max_depth=10, n_estimators=60, subsample=0.9;, score=0.629 total time=   0.6s\n",
            "[CV 5/5] END colsample_bytree=0.9, learning_rate=0.04, max_depth=10, n_estimators=60, subsample=0.9;, score=0.638 total time=   0.6s\n",
            "[CV 1/5] END colsample_bytree=0.5, learning_rate=0.06, max_depth=2, n_estimators=90, subsample=0.7;, score=0.642 total time=   0.1s\n",
            "[CV 2/5] END colsample_bytree=0.5, learning_rate=0.06, max_depth=2, n_estimators=90, subsample=0.7;, score=0.642 total time=   0.1s\n",
            "[CV 3/5] END colsample_bytree=0.5, learning_rate=0.06, max_depth=2, n_estimators=90, subsample=0.7;, score=0.642 total time=   0.1s\n",
            "[CV 4/5] END colsample_bytree=0.5, learning_rate=0.06, max_depth=2, n_estimators=90, subsample=0.7;, score=0.641 total time=   0.1s\n",
            "[CV 5/5] END colsample_bytree=0.5, learning_rate=0.06, max_depth=2, n_estimators=90, subsample=0.7;, score=0.641 total time=   0.1s\n",
            "[CV 1/5] END colsample_bytree=0.8, learning_rate=0.02, max_depth=10, n_estimators=80, subsample=0.7;, score=0.641 total time=   4.0s\n",
            "[CV 2/5] END colsample_bytree=0.8, learning_rate=0.02, max_depth=10, n_estimators=80, subsample=0.7;, score=0.642 total time=   0.7s\n",
            "[CV 3/5] END colsample_bytree=0.8, learning_rate=0.02, max_depth=10, n_estimators=80, subsample=0.7;, score=0.641 total time=   0.7s\n",
            "[CV 4/5] END colsample_bytree=0.8, learning_rate=0.02, max_depth=10, n_estimators=80, subsample=0.7;, score=0.641 total time=   0.7s\n",
            "[CV 5/5] END colsample_bytree=0.8, learning_rate=0.02, max_depth=10, n_estimators=80, subsample=0.7;, score=0.643 total time=   0.7s\n",
            "[CV 1/5] END colsample_bytree=0.8, learning_rate=0.02, max_depth=4, n_estimators=20, subsample=0.6;, score=0.642 total time=   0.1s\n",
            "[CV 2/5] END colsample_bytree=0.8, learning_rate=0.02, max_depth=4, n_estimators=20, subsample=0.6;, score=0.642 total time=   0.1s\n",
            "[CV 3/5] END colsample_bytree=0.8, learning_rate=0.02, max_depth=4, n_estimators=20, subsample=0.6;, score=0.642 total time=   0.1s\n",
            "[CV 4/5] END colsample_bytree=0.8, learning_rate=0.02, max_depth=4, n_estimators=20, subsample=0.6;, score=0.642 total time=   0.1s\n",
            "[CV 5/5] END colsample_bytree=0.8, learning_rate=0.02, max_depth=4, n_estimators=20, subsample=0.6;, score=0.641 total time=   0.1s\n",
            "[CV 1/5] END colsample_bytree=0.8, learning_rate=0.06, max_depth=4, n_estimators=20, subsample=0.9;, score=0.642 total time=   0.1s\n",
            "[CV 2/5] END colsample_bytree=0.8, learning_rate=0.06, max_depth=4, n_estimators=20, subsample=0.9;, score=0.642 total time=   0.1s\n",
            "[CV 3/5] END colsample_bytree=0.8, learning_rate=0.06, max_depth=4, n_estimators=20, subsample=0.9;, score=0.643 total time=   0.1s\n",
            "[CV 4/5] END colsample_bytree=0.8, learning_rate=0.06, max_depth=4, n_estimators=20, subsample=0.9;, score=0.642 total time=   0.1s\n",
            "[CV 5/5] END colsample_bytree=0.8, learning_rate=0.06, max_depth=4, n_estimators=20, subsample=0.9;, score=0.641 total time=   0.1s\n",
            "[CV 1/5] END colsample_bytree=0.8, learning_rate=1.0, max_depth=4, n_estimators=10, subsample=0.6;, score=0.581 total time=   0.0s\n",
            "[CV 2/5] END colsample_bytree=0.8, learning_rate=1.0, max_depth=4, n_estimators=10, subsample=0.6;, score=0.574 total time=   0.0s\n",
            "[CV 3/5] END colsample_bytree=0.8, learning_rate=1.0, max_depth=4, n_estimators=10, subsample=0.6;, score=0.590 total time=   0.0s\n",
            "[CV 4/5] END colsample_bytree=0.8, learning_rate=1.0, max_depth=4, n_estimators=10, subsample=0.6;, score=0.586 total time=   0.0s\n",
            "[CV 5/5] END colsample_bytree=0.8, learning_rate=1.0, max_depth=4, n_estimators=10, subsample=0.6;, score=0.577 total time=   0.0s\n",
            "[CV 1/5] END colsample_bytree=0.5, learning_rate=0.02, max_depth=8, n_estimators=60, subsample=0.9;, score=0.642 total time=   0.3s\n",
            "[CV 2/5] END colsample_bytree=0.5, learning_rate=0.02, max_depth=8, n_estimators=60, subsample=0.9;, score=0.641 total time=   0.2s\n",
            "[CV 3/5] END colsample_bytree=0.5, learning_rate=0.02, max_depth=8, n_estimators=60, subsample=0.9;, score=0.642 total time=   0.3s\n",
            "[CV 4/5] END colsample_bytree=0.5, learning_rate=0.02, max_depth=8, n_estimators=60, subsample=0.9;, score=0.642 total time=   0.3s\n",
            "[CV 5/5] END colsample_bytree=0.5, learning_rate=0.02, max_depth=8, n_estimators=60, subsample=0.9;, score=0.641 total time=   0.3s\n",
            "[CV 1/5] END colsample_bytree=0.7, learning_rate=0.08, max_depth=4, n_estimators=90, subsample=0.9;, score=0.640 total time=   0.1s\n",
            "[CV 2/5] END colsample_bytree=0.7, learning_rate=0.08, max_depth=4, n_estimators=90, subsample=0.9;, score=0.631 total time=   0.1s\n",
            "[CV 3/5] END colsample_bytree=0.7, learning_rate=0.08, max_depth=4, n_estimators=90, subsample=0.9;, score=0.638 total time=   0.1s\n",
            "[CV 4/5] END colsample_bytree=0.7, learning_rate=0.08, max_depth=4, n_estimators=90, subsample=0.9;, score=0.638 total time=   0.2s\n",
            "[CV 5/5] END colsample_bytree=0.7, learning_rate=0.08, max_depth=4, n_estimators=90, subsample=0.9;, score=0.627 total time=   0.2s\n",
            "[CV 1/5] END colsample_bytree=0.8, learning_rate=0.04, max_depth=8, n_estimators=30, subsample=0.9;, score=0.641 total time=   0.2s\n",
            "[CV 2/5] END colsample_bytree=0.8, learning_rate=0.04, max_depth=8, n_estimators=30, subsample=0.9;, score=0.641 total time=   0.2s\n",
            "[CV 3/5] END colsample_bytree=0.8, learning_rate=0.04, max_depth=8, n_estimators=30, subsample=0.9;, score=0.643 total time=   0.2s\n",
            "[CV 4/5] END colsample_bytree=0.8, learning_rate=0.04, max_depth=8, n_estimators=30, subsample=0.9;, score=0.642 total time=   0.2s\n",
            "[CV 5/5] END colsample_bytree=0.8, learning_rate=0.04, max_depth=8, n_estimators=30, subsample=0.9;, score=0.639 total time=   0.2s\n",
            "[CV 1/5] END colsample_bytree=1.0, learning_rate=0.01, max_depth=10, n_estimators=20, subsample=0.5;, score=0.642 total time=   0.3s\n",
            "[CV 2/5] END colsample_bytree=1.0, learning_rate=0.01, max_depth=10, n_estimators=20, subsample=0.5;, score=0.642 total time=   0.2s\n",
            "[CV 3/5] END colsample_bytree=1.0, learning_rate=0.01, max_depth=10, n_estimators=20, subsample=0.5;, score=0.642 total time=   0.2s\n",
            "[CV 4/5] END colsample_bytree=1.0, learning_rate=0.01, max_depth=10, n_estimators=20, subsample=0.5;, score=0.642 total time=   0.3s\n",
            "[CV 5/5] END colsample_bytree=1.0, learning_rate=0.01, max_depth=10, n_estimators=20, subsample=0.5;, score=0.641 total time=   0.2s\n"
          ]
        },
        {
          "output_type": "execute_result",
          "data": {
            "text/plain": [
              "RandomizedSearchCV(cv=5,\n",
              "                   estimator=XGBClassifier(base_score=None, booster=None,\n",
              "                                           callbacks=None,\n",
              "                                           colsample_bylevel=None,\n",
              "                                           colsample_bynode=None,\n",
              "                                           colsample_bytree=None, device=None,\n",
              "                                           early_stopping_rounds=None,\n",
              "                                           enable_categorical=False,\n",
              "                                           eval_metric=None, feature_types=None,\n",
              "                                           gamma=None, grow_policy=None,\n",
              "                                           importance_type=None,\n",
              "                                           interaction_constraints=None,\n",
              "                                           learning_rate...\n",
              "                                           multi_strategy=None,\n",
              "                                           n_estimators=None, n_jobs=None,\n",
              "                                           num_parallel_tree=None,\n",
              "                                           random_state=None, ...),\n",
              "                   param_distributions={'colsample_bytree': [0.5, 0.6, 0.7, 0.8,\n",
              "                                                             0.9, 1.0],\n",
              "                                        'learning_rate': [0.01, 0.02, 0.04,\n",
              "                                                          0.06, 0.08, 1.0],\n",
              "                                        'max_depth': [2, 4, 6, 8, 10],\n",
              "                                        'n_estimators': [10, 20, 30, 40, 50, 60,\n",
              "                                                         70, 80, 90],\n",
              "                                        'subsample': [0.5, 0.6, 0.7, 0.8, 0.9,\n",
              "                                                      1.0]},\n",
              "                   random_state=42, scoring='accuracy', verbose=3)"
            ],
            "text/html": [
              "<style>#sk-container-id-11 {color: black;background-color: white;}#sk-container-id-11 pre{padding: 0;}#sk-container-id-11 div.sk-toggleable {background-color: white;}#sk-container-id-11 label.sk-toggleable__label {cursor: pointer;display: block;width: 100%;margin-bottom: 0;padding: 0.3em;box-sizing: border-box;text-align: center;}#sk-container-id-11 label.sk-toggleable__label-arrow:before {content: \"▸\";float: left;margin-right: 0.25em;color: #696969;}#sk-container-id-11 label.sk-toggleable__label-arrow:hover:before {color: black;}#sk-container-id-11 div.sk-estimator:hover label.sk-toggleable__label-arrow:before {color: black;}#sk-container-id-11 div.sk-toggleable__content {max-height: 0;max-width: 0;overflow: hidden;text-align: left;background-color: #f0f8ff;}#sk-container-id-11 div.sk-toggleable__content pre {margin: 0.2em;color: black;border-radius: 0.25em;background-color: #f0f8ff;}#sk-container-id-11 input.sk-toggleable__control:checked~div.sk-toggleable__content {max-height: 200px;max-width: 100%;overflow: auto;}#sk-container-id-11 input.sk-toggleable__control:checked~label.sk-toggleable__label-arrow:before {content: \"▾\";}#sk-container-id-11 div.sk-estimator input.sk-toggleable__control:checked~label.sk-toggleable__label {background-color: #d4ebff;}#sk-container-id-11 div.sk-label input.sk-toggleable__control:checked~label.sk-toggleable__label {background-color: #d4ebff;}#sk-container-id-11 input.sk-hidden--visually {border: 0;clip: rect(1px 1px 1px 1px);clip: rect(1px, 1px, 1px, 1px);height: 1px;margin: -1px;overflow: hidden;padding: 0;position: absolute;width: 1px;}#sk-container-id-11 div.sk-estimator {font-family: monospace;background-color: #f0f8ff;border: 1px dotted black;border-radius: 0.25em;box-sizing: border-box;margin-bottom: 0.5em;}#sk-container-id-11 div.sk-estimator:hover {background-color: #d4ebff;}#sk-container-id-11 div.sk-parallel-item::after {content: \"\";width: 100%;border-bottom: 1px solid gray;flex-grow: 1;}#sk-container-id-11 div.sk-label:hover label.sk-toggleable__label {background-color: #d4ebff;}#sk-container-id-11 div.sk-serial::before {content: \"\";position: absolute;border-left: 1px solid gray;box-sizing: border-box;top: 0;bottom: 0;left: 50%;z-index: 0;}#sk-container-id-11 div.sk-serial {display: flex;flex-direction: column;align-items: center;background-color: white;padding-right: 0.2em;padding-left: 0.2em;position: relative;}#sk-container-id-11 div.sk-item {position: relative;z-index: 1;}#sk-container-id-11 div.sk-parallel {display: flex;align-items: stretch;justify-content: center;background-color: white;position: relative;}#sk-container-id-11 div.sk-item::before, #sk-container-id-11 div.sk-parallel-item::before {content: \"\";position: absolute;border-left: 1px solid gray;box-sizing: border-box;top: 0;bottom: 0;left: 50%;z-index: -1;}#sk-container-id-11 div.sk-parallel-item {display: flex;flex-direction: column;z-index: 1;position: relative;background-color: white;}#sk-container-id-11 div.sk-parallel-item:first-child::after {align-self: flex-end;width: 50%;}#sk-container-id-11 div.sk-parallel-item:last-child::after {align-self: flex-start;width: 50%;}#sk-container-id-11 div.sk-parallel-item:only-child::after {width: 0;}#sk-container-id-11 div.sk-dashed-wrapped {border: 1px dashed gray;margin: 0 0.4em 0.5em 0.4em;box-sizing: border-box;padding-bottom: 0.4em;background-color: white;}#sk-container-id-11 div.sk-label label {font-family: monospace;font-weight: bold;display: inline-block;line-height: 1.2em;}#sk-container-id-11 div.sk-label-container {text-align: center;}#sk-container-id-11 div.sk-container {/* jupyter's `normalize.less` sets `[hidden] { display: none; }` but bootstrap.min.css set `[hidden] { display: none !important; }` so we also need the `!important` here to be able to override the default hidden behavior on the sphinx rendered scikit-learn.org. See: https://github.com/scikit-learn/scikit-learn/issues/21755 */display: inline-block !important;position: relative;}#sk-container-id-11 div.sk-text-repr-fallback {display: none;}</style><div id=\"sk-container-id-11\" class=\"sk-top-container\"><div class=\"sk-text-repr-fallback\"><pre>RandomizedSearchCV(cv=5,\n",
              "                   estimator=XGBClassifier(base_score=None, booster=None,\n",
              "                                           callbacks=None,\n",
              "                                           colsample_bylevel=None,\n",
              "                                           colsample_bynode=None,\n",
              "                                           colsample_bytree=None, device=None,\n",
              "                                           early_stopping_rounds=None,\n",
              "                                           enable_categorical=False,\n",
              "                                           eval_metric=None, feature_types=None,\n",
              "                                           gamma=None, grow_policy=None,\n",
              "                                           importance_type=None,\n",
              "                                           interaction_constraints=None,\n",
              "                                           learning_rate...\n",
              "                                           multi_strategy=None,\n",
              "                                           n_estimators=None, n_jobs=None,\n",
              "                                           num_parallel_tree=None,\n",
              "                                           random_state=None, ...),\n",
              "                   param_distributions={&#x27;colsample_bytree&#x27;: [0.5, 0.6, 0.7, 0.8,\n",
              "                                                             0.9, 1.0],\n",
              "                                        &#x27;learning_rate&#x27;: [0.01, 0.02, 0.04,\n",
              "                                                          0.06, 0.08, 1.0],\n",
              "                                        &#x27;max_depth&#x27;: [2, 4, 6, 8, 10],\n",
              "                                        &#x27;n_estimators&#x27;: [10, 20, 30, 40, 50, 60,\n",
              "                                                         70, 80, 90],\n",
              "                                        &#x27;subsample&#x27;: [0.5, 0.6, 0.7, 0.8, 0.9,\n",
              "                                                      1.0]},\n",
              "                   random_state=42, scoring=&#x27;accuracy&#x27;, verbose=3)</pre><b>In a Jupyter environment, please rerun this cell to show the HTML representation or trust the notebook. <br />On GitHub, the HTML representation is unable to render, please try loading this page with nbviewer.org.</b></div><div class=\"sk-container\" hidden><div class=\"sk-item sk-dashed-wrapped\"><div class=\"sk-label-container\"><div class=\"sk-label sk-toggleable\"><input class=\"sk-toggleable__control sk-hidden--visually\" id=\"sk-estimator-id-31\" type=\"checkbox\" ><label for=\"sk-estimator-id-31\" class=\"sk-toggleable__label sk-toggleable__label-arrow\">RandomizedSearchCV</label><div class=\"sk-toggleable__content\"><pre>RandomizedSearchCV(cv=5,\n",
              "                   estimator=XGBClassifier(base_score=None, booster=None,\n",
              "                                           callbacks=None,\n",
              "                                           colsample_bylevel=None,\n",
              "                                           colsample_bynode=None,\n",
              "                                           colsample_bytree=None, device=None,\n",
              "                                           early_stopping_rounds=None,\n",
              "                                           enable_categorical=False,\n",
              "                                           eval_metric=None, feature_types=None,\n",
              "                                           gamma=None, grow_policy=None,\n",
              "                                           importance_type=None,\n",
              "                                           interaction_constraints=None,\n",
              "                                           learning_rate...\n",
              "                                           multi_strategy=None,\n",
              "                                           n_estimators=None, n_jobs=None,\n",
              "                                           num_parallel_tree=None,\n",
              "                                           random_state=None, ...),\n",
              "                   param_distributions={&#x27;colsample_bytree&#x27;: [0.5, 0.6, 0.7, 0.8,\n",
              "                                                             0.9, 1.0],\n",
              "                                        &#x27;learning_rate&#x27;: [0.01, 0.02, 0.04,\n",
              "                                                          0.06, 0.08, 1.0],\n",
              "                                        &#x27;max_depth&#x27;: [2, 4, 6, 8, 10],\n",
              "                                        &#x27;n_estimators&#x27;: [10, 20, 30, 40, 50, 60,\n",
              "                                                         70, 80, 90],\n",
              "                                        &#x27;subsample&#x27;: [0.5, 0.6, 0.7, 0.8, 0.9,\n",
              "                                                      1.0]},\n",
              "                   random_state=42, scoring=&#x27;accuracy&#x27;, verbose=3)</pre></div></div></div><div class=\"sk-parallel\"><div class=\"sk-parallel-item\"><div class=\"sk-item\"><div class=\"sk-label-container\"><div class=\"sk-label sk-toggleable\"><input class=\"sk-toggleable__control sk-hidden--visually\" id=\"sk-estimator-id-32\" type=\"checkbox\" ><label for=\"sk-estimator-id-32\" class=\"sk-toggleable__label sk-toggleable__label-arrow\">estimator: XGBClassifier</label><div class=\"sk-toggleable__content\"><pre>XGBClassifier(base_score=None, booster=None, callbacks=None,\n",
              "              colsample_bylevel=None, colsample_bynode=None,\n",
              "              colsample_bytree=None, device=None, early_stopping_rounds=None,\n",
              "              enable_categorical=False, eval_metric=None, feature_types=None,\n",
              "              gamma=None, grow_policy=None, importance_type=None,\n",
              "              interaction_constraints=None, learning_rate=None, max_bin=None,\n",
              "              max_cat_threshold=None, max_cat_to_onehot=None,\n",
              "              max_delta_step=None, max_depth=None, max_leaves=None,\n",
              "              min_child_weight=None, missing=nan, monotone_constraints=None,\n",
              "              multi_strategy=None, n_estimators=None, n_jobs=None,\n",
              "              num_parallel_tree=None, random_state=None, ...)</pre></div></div></div><div class=\"sk-serial\"><div class=\"sk-item\"><div class=\"sk-estimator sk-toggleable\"><input class=\"sk-toggleable__control sk-hidden--visually\" id=\"sk-estimator-id-33\" type=\"checkbox\" ><label for=\"sk-estimator-id-33\" class=\"sk-toggleable__label sk-toggleable__label-arrow\">XGBClassifier</label><div class=\"sk-toggleable__content\"><pre>XGBClassifier(base_score=None, booster=None, callbacks=None,\n",
              "              colsample_bylevel=None, colsample_bynode=None,\n",
              "              colsample_bytree=None, device=None, early_stopping_rounds=None,\n",
              "              enable_categorical=False, eval_metric=None, feature_types=None,\n",
              "              gamma=None, grow_policy=None, importance_type=None,\n",
              "              interaction_constraints=None, learning_rate=None, max_bin=None,\n",
              "              max_cat_threshold=None, max_cat_to_onehot=None,\n",
              "              max_delta_step=None, max_depth=None, max_leaves=None,\n",
              "              min_child_weight=None, missing=nan, monotone_constraints=None,\n",
              "              multi_strategy=None, n_estimators=None, n_jobs=None,\n",
              "              num_parallel_tree=None, random_state=None, ...)</pre></div></div></div></div></div></div></div></div></div></div>"
            ]
          },
          "metadata": {},
          "execution_count": 150
        }
      ],
      "source": [
        "r_xgb.fit(X_train, y_train)"
      ]
    },
    {
      "cell_type": "code",
      "execution_count": 153,
      "metadata": {
        "id": "l9L709bXWePI"
      },
      "outputs": [],
      "source": [
        "predictions = r_xgb.predict(X_test)"
      ]
    },
    {
      "cell_type": "code",
      "execution_count": 154,
      "metadata": {
        "colab": {
          "base_uri": "https://localhost:8080/"
        },
        "id": "1F8tpDkGWkc_",
        "outputId": "46276d84-36c1-4044-a156-426c0461ee44"
      },
      "outputs": [
        {
          "output_type": "stream",
          "name": "stdout",
          "text": [
            "Accuracy: 0.6417569880205363\n"
          ]
        }
      ],
      "source": [
        "print(f\"Accuracy: {accuracy_score(y_test, predictions)}\")"
      ]
    },
    {
      "cell_type": "code",
      "execution_count": 155,
      "metadata": {
        "colab": {
          "base_uri": "https://localhost:8080/"
        },
        "id": "7TDR6PB0VLe0",
        "outputId": "4add5d13-8810-4577-fe28-4e1d382fbc5c"
      },
      "outputs": [
        {
          "output_type": "stream",
          "name": "stdout",
          "text": [
            "Best parameters found:  {'subsample': 0.9, 'n_estimators': 20, 'max_depth': 4, 'learning_rate': 0.06, 'colsample_bytree': 0.8}\n",
            "Lowest RMSE found:  0.8012116359564503\n"
          ]
        }
      ],
      "source": [
        "print(\"Best parameters found: \", r_xgb.best_params_)\n",
        "print(\"Lowest RMSE found: \", np.sqrt(np.abs(r_xgb.best_score_)))"
      ]
    },
    {
      "cell_type": "code",
      "source": [
        "from sklearn.metrics import confusion_matrix, classification_report\n",
        "print(f\"Confusion Matrix \\n {confusion_matrix(y_test, predictions)}\")\n",
        "print(f\"Classification Report \\n {classification_report(y_test, predictions)}\")"
      ],
      "metadata": {
        "colab": {
          "base_uri": "https://localhost:8080/"
        },
        "id": "EAPwy-vucX2H",
        "outputId": "98b7bdef-d68d-492f-a281-c7d8384b340f"
      },
      "execution_count": 156,
      "outputs": [
        {
          "output_type": "stream",
          "name": "stdout",
          "text": [
            "Confusion Matrix \n",
            " [[1125    0]\n",
            " [ 628    0]]\n",
            "Classification Report \n",
            "               precision    recall  f1-score   support\n",
            "\n",
            "           0       0.64      1.00      0.78      1125\n",
            "           1       0.00      0.00      0.00       628\n",
            "\n",
            "    accuracy                           0.64      1753\n",
            "   macro avg       0.32      0.50      0.39      1753\n",
            "weighted avg       0.41      0.64      0.50      1753\n",
            "\n"
          ]
        },
        {
          "output_type": "stream",
          "name": "stderr",
          "text": [
            "/usr/local/lib/python3.10/dist-packages/sklearn/metrics/_classification.py:1344: UndefinedMetricWarning: Precision and F-score are ill-defined and being set to 0.0 in labels with no predicted samples. Use `zero_division` parameter to control this behavior.\n",
            "  _warn_prf(average, modifier, msg_start, len(result))\n",
            "/usr/local/lib/python3.10/dist-packages/sklearn/metrics/_classification.py:1344: UndefinedMetricWarning: Precision and F-score are ill-defined and being set to 0.0 in labels with no predicted samples. Use `zero_division` parameter to control this behavior.\n",
            "  _warn_prf(average, modifier, msg_start, len(result))\n",
            "/usr/local/lib/python3.10/dist-packages/sklearn/metrics/_classification.py:1344: UndefinedMetricWarning: Precision and F-score are ill-defined and being set to 0.0 in labels with no predicted samples. Use `zero_division` parameter to control this behavior.\n",
            "  _warn_prf(average, modifier, msg_start, len(result))\n"
          ]
        }
      ]
    },
    {
      "cell_type": "code",
      "source": [
        "df[\"Heart Attack Risk\"].value_counts()"
      ],
      "metadata": {
        "colab": {
          "base_uri": "https://localhost:8080/"
        },
        "id": "BqHKWXjhd1zz",
        "outputId": "76e02c87-a69e-41d4-d760-de8fa01368ad"
      },
      "execution_count": 157,
      "outputs": [
        {
          "output_type": "execute_result",
          "data": {
            "text/plain": [
              "Heart Attack Risk\n",
              "0    5624\n",
              "1    3139\n",
              "Name: count, dtype: int64"
            ]
          },
          "metadata": {},
          "execution_count": 157
        }
      ]
    },
    {
      "cell_type": "markdown",
      "source": [
        "The model is performing poorly on the 1 class, due to class imbalace. Using accuracy as a scoring metric can be  misleading as an high accuracy does not signify the performance of the model on both classes as seen above.\n",
        "Scoring will be set to f1 to select the best model\n",
        "\n"
      ],
      "metadata": {
        "id": "1thH9bfzbuvn"
      }
    },
    {
      "cell_type": "markdown",
      "source": [
        "**USING F1 AS THE SCORING METRIC IN THE RANDOMIZEDSEARCHCV**"
      ],
      "metadata": {
        "id": "MzXNJFEsvhOw"
      }
    },
    {
      "cell_type": "code",
      "source": [
        "xgb_f1 = RandomizedSearchCV(xgb, parameters_grid, cv=5, scoring='f1', n_iter=10, random_state = 42, verbose = 3)"
      ],
      "metadata": {
        "id": "cGpxV2Bmvase"
      },
      "execution_count": 151,
      "outputs": []
    },
    {
      "cell_type": "code",
      "source": [
        "xgb_f1.fit(X_train, y_train)"
      ],
      "metadata": {
        "colab": {
          "base_uri": "https://localhost:8080/",
          "height": 1000
        },
        "id": "R7joR62XvaqL",
        "outputId": "defbc506-88a7-479b-dd90-7a48bdb3cee7"
      },
      "execution_count": 152,
      "outputs": [
        {
          "output_type": "stream",
          "name": "stdout",
          "text": [
            "Fitting 5 folds for each of 10 candidates, totalling 50 fits\n",
            "[CV 1/5] END colsample_bytree=0.9, learning_rate=0.04, max_depth=10, n_estimators=60, subsample=0.9;, score=0.069 total time=  14.0s\n",
            "[CV 2/5] END colsample_bytree=0.9, learning_rate=0.04, max_depth=10, n_estimators=60, subsample=0.9;, score=0.048 total time=   1.4s\n",
            "[CV 3/5] END colsample_bytree=0.9, learning_rate=0.04, max_depth=10, n_estimators=60, subsample=0.9;, score=0.045 total time=   0.5s\n",
            "[CV 4/5] END colsample_bytree=0.9, learning_rate=0.04, max_depth=10, n_estimators=60, subsample=0.9;, score=0.037 total time=   0.6s\n",
            "[CV 5/5] END colsample_bytree=0.9, learning_rate=0.04, max_depth=10, n_estimators=60, subsample=0.9;, score=0.052 total time=   0.6s\n",
            "[CV 1/5] END colsample_bytree=0.5, learning_rate=0.06, max_depth=2, n_estimators=90, subsample=0.7;, score=0.000 total time=   0.1s\n",
            "[CV 2/5] END colsample_bytree=0.5, learning_rate=0.06, max_depth=2, n_estimators=90, subsample=0.7;, score=0.000 total time=   0.1s\n",
            "[CV 3/5] END colsample_bytree=0.5, learning_rate=0.06, max_depth=2, n_estimators=90, subsample=0.7;, score=0.000 total time=   0.1s\n",
            "[CV 4/5] END colsample_bytree=0.5, learning_rate=0.06, max_depth=2, n_estimators=90, subsample=0.7;, score=0.000 total time=   0.1s\n",
            "[CV 5/5] END colsample_bytree=0.5, learning_rate=0.06, max_depth=2, n_estimators=90, subsample=0.7;, score=0.000 total time=   0.1s\n",
            "[CV 1/5] END colsample_bytree=0.8, learning_rate=0.02, max_depth=10, n_estimators=80, subsample=0.7;, score=0.008 total time=   0.7s\n",
            "[CV 2/5] END colsample_bytree=0.8, learning_rate=0.02, max_depth=10, n_estimators=80, subsample=0.7;, score=0.012 total time=   4.1s\n",
            "[CV 3/5] END colsample_bytree=0.8, learning_rate=0.02, max_depth=10, n_estimators=80, subsample=0.7;, score=0.004 total time=   0.7s\n",
            "[CV 4/5] END colsample_bytree=0.8, learning_rate=0.02, max_depth=10, n_estimators=80, subsample=0.7;, score=0.004 total time=   0.7s\n",
            "[CV 5/5] END colsample_bytree=0.8, learning_rate=0.02, max_depth=10, n_estimators=80, subsample=0.7;, score=0.012 total time=   0.7s\n",
            "[CV 1/5] END colsample_bytree=0.8, learning_rate=0.02, max_depth=4, n_estimators=20, subsample=0.6;, score=0.000 total time=   0.1s\n",
            "[CV 2/5] END colsample_bytree=0.8, learning_rate=0.02, max_depth=4, n_estimators=20, subsample=0.6;, score=0.000 total time=   0.1s\n",
            "[CV 3/5] END colsample_bytree=0.8, learning_rate=0.02, max_depth=4, n_estimators=20, subsample=0.6;, score=0.000 total time=   0.1s\n",
            "[CV 4/5] END colsample_bytree=0.8, learning_rate=0.02, max_depth=4, n_estimators=20, subsample=0.6;, score=0.000 total time=   0.1s\n",
            "[CV 5/5] END colsample_bytree=0.8, learning_rate=0.02, max_depth=4, n_estimators=20, subsample=0.6;, score=0.000 total time=   0.1s\n",
            "[CV 1/5] END colsample_bytree=0.8, learning_rate=0.06, max_depth=4, n_estimators=20, subsample=0.9;, score=0.000 total time=   0.1s\n",
            "[CV 2/5] END colsample_bytree=0.8, learning_rate=0.06, max_depth=4, n_estimators=20, subsample=0.9;, score=0.000 total time=   0.1s\n",
            "[CV 3/5] END colsample_bytree=0.8, learning_rate=0.06, max_depth=4, n_estimators=20, subsample=0.9;, score=0.004 total time=   0.1s\n",
            "[CV 4/5] END colsample_bytree=0.8, learning_rate=0.06, max_depth=4, n_estimators=20, subsample=0.9;, score=0.000 total time=   0.1s\n",
            "[CV 5/5] END colsample_bytree=0.8, learning_rate=0.06, max_depth=4, n_estimators=20, subsample=0.9;, score=0.000 total time=   0.1s\n",
            "[CV 1/5] END colsample_bytree=0.8, learning_rate=1.0, max_depth=4, n_estimators=10, subsample=0.6;, score=0.279 total time=   0.1s\n",
            "[CV 2/5] END colsample_bytree=0.8, learning_rate=1.0, max_depth=4, n_estimators=10, subsample=0.6;, score=0.243 total time=   0.0s\n",
            "[CV 3/5] END colsample_bytree=0.8, learning_rate=1.0, max_depth=4, n_estimators=10, subsample=0.6;, score=0.268 total time=   0.0s\n",
            "[CV 4/5] END colsample_bytree=0.8, learning_rate=1.0, max_depth=4, n_estimators=10, subsample=0.6;, score=0.289 total time=   0.0s\n",
            "[CV 5/5] END colsample_bytree=0.8, learning_rate=1.0, max_depth=4, n_estimators=10, subsample=0.6;, score=0.286 total time=   0.0s\n",
            "[CV 1/5] END colsample_bytree=0.5, learning_rate=0.02, max_depth=8, n_estimators=60, subsample=0.9;, score=0.000 total time=   0.3s\n",
            "[CV 2/5] END colsample_bytree=0.5, learning_rate=0.02, max_depth=8, n_estimators=60, subsample=0.9;, score=0.000 total time=   0.3s\n",
            "[CV 3/5] END colsample_bytree=0.5, learning_rate=0.02, max_depth=8, n_estimators=60, subsample=0.9;, score=0.000 total time=   0.2s\n",
            "[CV 4/5] END colsample_bytree=0.5, learning_rate=0.02, max_depth=8, n_estimators=60, subsample=0.9;, score=0.000 total time=   0.3s\n",
            "[CV 5/5] END colsample_bytree=0.5, learning_rate=0.02, max_depth=8, n_estimators=60, subsample=0.9;, score=0.000 total time=   0.6s\n",
            "[CV 1/5] END colsample_bytree=0.7, learning_rate=0.08, max_depth=4, n_estimators=90, subsample=0.9;, score=0.053 total time=   0.1s\n",
            "[CV 2/5] END colsample_bytree=0.7, learning_rate=0.08, max_depth=4, n_estimators=90, subsample=0.9;, score=0.048 total time=   0.1s\n",
            "[CV 3/5] END colsample_bytree=0.7, learning_rate=0.08, max_depth=4, n_estimators=90, subsample=0.9;, score=0.038 total time=   0.1s\n",
            "[CV 4/5] END colsample_bytree=0.7, learning_rate=0.08, max_depth=4, n_estimators=90, subsample=0.9;, score=0.045 total time=   0.1s\n",
            "[CV 5/5] END colsample_bytree=0.7, learning_rate=0.08, max_depth=4, n_estimators=90, subsample=0.9;, score=0.033 total time=   0.1s\n",
            "[CV 1/5] END colsample_bytree=0.8, learning_rate=0.04, max_depth=8, n_estimators=30, subsample=0.9;, score=0.004 total time=   0.2s\n",
            "[CV 2/5] END colsample_bytree=0.8, learning_rate=0.04, max_depth=8, n_estimators=30, subsample=0.9;, score=0.012 total time=   0.2s\n",
            "[CV 3/5] END colsample_bytree=0.8, learning_rate=0.04, max_depth=8, n_estimators=30, subsample=0.9;, score=0.012 total time=   0.2s\n",
            "[CV 4/5] END colsample_bytree=0.8, learning_rate=0.04, max_depth=8, n_estimators=30, subsample=0.9;, score=0.000 total time=   0.2s\n",
            "[CV 5/5] END colsample_bytree=0.8, learning_rate=0.04, max_depth=8, n_estimators=30, subsample=0.9;, score=0.008 total time=   0.2s\n",
            "[CV 1/5] END colsample_bytree=1.0, learning_rate=0.01, max_depth=10, n_estimators=20, subsample=0.5;, score=0.000 total time=   0.2s\n",
            "[CV 2/5] END colsample_bytree=1.0, learning_rate=0.01, max_depth=10, n_estimators=20, subsample=0.5;, score=0.000 total time=   0.2s\n",
            "[CV 3/5] END colsample_bytree=1.0, learning_rate=0.01, max_depth=10, n_estimators=20, subsample=0.5;, score=0.000 total time=   0.2s\n",
            "[CV 4/5] END colsample_bytree=1.0, learning_rate=0.01, max_depth=10, n_estimators=20, subsample=0.5;, score=0.000 total time=   0.2s\n",
            "[CV 5/5] END colsample_bytree=1.0, learning_rate=0.01, max_depth=10, n_estimators=20, subsample=0.5;, score=0.000 total time=   0.2s\n"
          ]
        },
        {
          "output_type": "execute_result",
          "data": {
            "text/plain": [
              "RandomizedSearchCV(cv=5,\n",
              "                   estimator=XGBClassifier(base_score=None, booster=None,\n",
              "                                           callbacks=None,\n",
              "                                           colsample_bylevel=None,\n",
              "                                           colsample_bynode=None,\n",
              "                                           colsample_bytree=None, device=None,\n",
              "                                           early_stopping_rounds=None,\n",
              "                                           enable_categorical=False,\n",
              "                                           eval_metric=None, feature_types=None,\n",
              "                                           gamma=None, grow_policy=None,\n",
              "                                           importance_type=None,\n",
              "                                           interaction_constraints=None,\n",
              "                                           learning_rate...\n",
              "                                           multi_strategy=None,\n",
              "                                           n_estimators=None, n_jobs=None,\n",
              "                                           num_parallel_tree=None,\n",
              "                                           random_state=None, ...),\n",
              "                   param_distributions={'colsample_bytree': [0.5, 0.6, 0.7, 0.8,\n",
              "                                                             0.9, 1.0],\n",
              "                                        'learning_rate': [0.01, 0.02, 0.04,\n",
              "                                                          0.06, 0.08, 1.0],\n",
              "                                        'max_depth': [2, 4, 6, 8, 10],\n",
              "                                        'n_estimators': [10, 20, 30, 40, 50, 60,\n",
              "                                                         70, 80, 90],\n",
              "                                        'subsample': [0.5, 0.6, 0.7, 0.8, 0.9,\n",
              "                                                      1.0]},\n",
              "                   random_state=42, scoring='f1', verbose=3)"
            ],
            "text/html": [
              "<style>#sk-container-id-12 {color: black;background-color: white;}#sk-container-id-12 pre{padding: 0;}#sk-container-id-12 div.sk-toggleable {background-color: white;}#sk-container-id-12 label.sk-toggleable__label {cursor: pointer;display: block;width: 100%;margin-bottom: 0;padding: 0.3em;box-sizing: border-box;text-align: center;}#sk-container-id-12 label.sk-toggleable__label-arrow:before {content: \"▸\";float: left;margin-right: 0.25em;color: #696969;}#sk-container-id-12 label.sk-toggleable__label-arrow:hover:before {color: black;}#sk-container-id-12 div.sk-estimator:hover label.sk-toggleable__label-arrow:before {color: black;}#sk-container-id-12 div.sk-toggleable__content {max-height: 0;max-width: 0;overflow: hidden;text-align: left;background-color: #f0f8ff;}#sk-container-id-12 div.sk-toggleable__content pre {margin: 0.2em;color: black;border-radius: 0.25em;background-color: #f0f8ff;}#sk-container-id-12 input.sk-toggleable__control:checked~div.sk-toggleable__content {max-height: 200px;max-width: 100%;overflow: auto;}#sk-container-id-12 input.sk-toggleable__control:checked~label.sk-toggleable__label-arrow:before {content: \"▾\";}#sk-container-id-12 div.sk-estimator input.sk-toggleable__control:checked~label.sk-toggleable__label {background-color: #d4ebff;}#sk-container-id-12 div.sk-label input.sk-toggleable__control:checked~label.sk-toggleable__label {background-color: #d4ebff;}#sk-container-id-12 input.sk-hidden--visually {border: 0;clip: rect(1px 1px 1px 1px);clip: rect(1px, 1px, 1px, 1px);height: 1px;margin: -1px;overflow: hidden;padding: 0;position: absolute;width: 1px;}#sk-container-id-12 div.sk-estimator {font-family: monospace;background-color: #f0f8ff;border: 1px dotted black;border-radius: 0.25em;box-sizing: border-box;margin-bottom: 0.5em;}#sk-container-id-12 div.sk-estimator:hover {background-color: #d4ebff;}#sk-container-id-12 div.sk-parallel-item::after {content: \"\";width: 100%;border-bottom: 1px solid gray;flex-grow: 1;}#sk-container-id-12 div.sk-label:hover label.sk-toggleable__label {background-color: #d4ebff;}#sk-container-id-12 div.sk-serial::before {content: \"\";position: absolute;border-left: 1px solid gray;box-sizing: border-box;top: 0;bottom: 0;left: 50%;z-index: 0;}#sk-container-id-12 div.sk-serial {display: flex;flex-direction: column;align-items: center;background-color: white;padding-right: 0.2em;padding-left: 0.2em;position: relative;}#sk-container-id-12 div.sk-item {position: relative;z-index: 1;}#sk-container-id-12 div.sk-parallel {display: flex;align-items: stretch;justify-content: center;background-color: white;position: relative;}#sk-container-id-12 div.sk-item::before, #sk-container-id-12 div.sk-parallel-item::before {content: \"\";position: absolute;border-left: 1px solid gray;box-sizing: border-box;top: 0;bottom: 0;left: 50%;z-index: -1;}#sk-container-id-12 div.sk-parallel-item {display: flex;flex-direction: column;z-index: 1;position: relative;background-color: white;}#sk-container-id-12 div.sk-parallel-item:first-child::after {align-self: flex-end;width: 50%;}#sk-container-id-12 div.sk-parallel-item:last-child::after {align-self: flex-start;width: 50%;}#sk-container-id-12 div.sk-parallel-item:only-child::after {width: 0;}#sk-container-id-12 div.sk-dashed-wrapped {border: 1px dashed gray;margin: 0 0.4em 0.5em 0.4em;box-sizing: border-box;padding-bottom: 0.4em;background-color: white;}#sk-container-id-12 div.sk-label label {font-family: monospace;font-weight: bold;display: inline-block;line-height: 1.2em;}#sk-container-id-12 div.sk-label-container {text-align: center;}#sk-container-id-12 div.sk-container {/* jupyter's `normalize.less` sets `[hidden] { display: none; }` but bootstrap.min.css set `[hidden] { display: none !important; }` so we also need the `!important` here to be able to override the default hidden behavior on the sphinx rendered scikit-learn.org. See: https://github.com/scikit-learn/scikit-learn/issues/21755 */display: inline-block !important;position: relative;}#sk-container-id-12 div.sk-text-repr-fallback {display: none;}</style><div id=\"sk-container-id-12\" class=\"sk-top-container\"><div class=\"sk-text-repr-fallback\"><pre>RandomizedSearchCV(cv=5,\n",
              "                   estimator=XGBClassifier(base_score=None, booster=None,\n",
              "                                           callbacks=None,\n",
              "                                           colsample_bylevel=None,\n",
              "                                           colsample_bynode=None,\n",
              "                                           colsample_bytree=None, device=None,\n",
              "                                           early_stopping_rounds=None,\n",
              "                                           enable_categorical=False,\n",
              "                                           eval_metric=None, feature_types=None,\n",
              "                                           gamma=None, grow_policy=None,\n",
              "                                           importance_type=None,\n",
              "                                           interaction_constraints=None,\n",
              "                                           learning_rate...\n",
              "                                           multi_strategy=None,\n",
              "                                           n_estimators=None, n_jobs=None,\n",
              "                                           num_parallel_tree=None,\n",
              "                                           random_state=None, ...),\n",
              "                   param_distributions={&#x27;colsample_bytree&#x27;: [0.5, 0.6, 0.7, 0.8,\n",
              "                                                             0.9, 1.0],\n",
              "                                        &#x27;learning_rate&#x27;: [0.01, 0.02, 0.04,\n",
              "                                                          0.06, 0.08, 1.0],\n",
              "                                        &#x27;max_depth&#x27;: [2, 4, 6, 8, 10],\n",
              "                                        &#x27;n_estimators&#x27;: [10, 20, 30, 40, 50, 60,\n",
              "                                                         70, 80, 90],\n",
              "                                        &#x27;subsample&#x27;: [0.5, 0.6, 0.7, 0.8, 0.9,\n",
              "                                                      1.0]},\n",
              "                   random_state=42, scoring=&#x27;f1&#x27;, verbose=3)</pre><b>In a Jupyter environment, please rerun this cell to show the HTML representation or trust the notebook. <br />On GitHub, the HTML representation is unable to render, please try loading this page with nbviewer.org.</b></div><div class=\"sk-container\" hidden><div class=\"sk-item sk-dashed-wrapped\"><div class=\"sk-label-container\"><div class=\"sk-label sk-toggleable\"><input class=\"sk-toggleable__control sk-hidden--visually\" id=\"sk-estimator-id-34\" type=\"checkbox\" ><label for=\"sk-estimator-id-34\" class=\"sk-toggleable__label sk-toggleable__label-arrow\">RandomizedSearchCV</label><div class=\"sk-toggleable__content\"><pre>RandomizedSearchCV(cv=5,\n",
              "                   estimator=XGBClassifier(base_score=None, booster=None,\n",
              "                                           callbacks=None,\n",
              "                                           colsample_bylevel=None,\n",
              "                                           colsample_bynode=None,\n",
              "                                           colsample_bytree=None, device=None,\n",
              "                                           early_stopping_rounds=None,\n",
              "                                           enable_categorical=False,\n",
              "                                           eval_metric=None, feature_types=None,\n",
              "                                           gamma=None, grow_policy=None,\n",
              "                                           importance_type=None,\n",
              "                                           interaction_constraints=None,\n",
              "                                           learning_rate...\n",
              "                                           multi_strategy=None,\n",
              "                                           n_estimators=None, n_jobs=None,\n",
              "                                           num_parallel_tree=None,\n",
              "                                           random_state=None, ...),\n",
              "                   param_distributions={&#x27;colsample_bytree&#x27;: [0.5, 0.6, 0.7, 0.8,\n",
              "                                                             0.9, 1.0],\n",
              "                                        &#x27;learning_rate&#x27;: [0.01, 0.02, 0.04,\n",
              "                                                          0.06, 0.08, 1.0],\n",
              "                                        &#x27;max_depth&#x27;: [2, 4, 6, 8, 10],\n",
              "                                        &#x27;n_estimators&#x27;: [10, 20, 30, 40, 50, 60,\n",
              "                                                         70, 80, 90],\n",
              "                                        &#x27;subsample&#x27;: [0.5, 0.6, 0.7, 0.8, 0.9,\n",
              "                                                      1.0]},\n",
              "                   random_state=42, scoring=&#x27;f1&#x27;, verbose=3)</pre></div></div></div><div class=\"sk-parallel\"><div class=\"sk-parallel-item\"><div class=\"sk-item\"><div class=\"sk-label-container\"><div class=\"sk-label sk-toggleable\"><input class=\"sk-toggleable__control sk-hidden--visually\" id=\"sk-estimator-id-35\" type=\"checkbox\" ><label for=\"sk-estimator-id-35\" class=\"sk-toggleable__label sk-toggleable__label-arrow\">estimator: XGBClassifier</label><div class=\"sk-toggleable__content\"><pre>XGBClassifier(base_score=None, booster=None, callbacks=None,\n",
              "              colsample_bylevel=None, colsample_bynode=None,\n",
              "              colsample_bytree=None, device=None, early_stopping_rounds=None,\n",
              "              enable_categorical=False, eval_metric=None, feature_types=None,\n",
              "              gamma=None, grow_policy=None, importance_type=None,\n",
              "              interaction_constraints=None, learning_rate=None, max_bin=None,\n",
              "              max_cat_threshold=None, max_cat_to_onehot=None,\n",
              "              max_delta_step=None, max_depth=None, max_leaves=None,\n",
              "              min_child_weight=None, missing=nan, monotone_constraints=None,\n",
              "              multi_strategy=None, n_estimators=None, n_jobs=None,\n",
              "              num_parallel_tree=None, random_state=None, ...)</pre></div></div></div><div class=\"sk-serial\"><div class=\"sk-item\"><div class=\"sk-estimator sk-toggleable\"><input class=\"sk-toggleable__control sk-hidden--visually\" id=\"sk-estimator-id-36\" type=\"checkbox\" ><label for=\"sk-estimator-id-36\" class=\"sk-toggleable__label sk-toggleable__label-arrow\">XGBClassifier</label><div class=\"sk-toggleable__content\"><pre>XGBClassifier(base_score=None, booster=None, callbacks=None,\n",
              "              colsample_bylevel=None, colsample_bynode=None,\n",
              "              colsample_bytree=None, device=None, early_stopping_rounds=None,\n",
              "              enable_categorical=False, eval_metric=None, feature_types=None,\n",
              "              gamma=None, grow_policy=None, importance_type=None,\n",
              "              interaction_constraints=None, learning_rate=None, max_bin=None,\n",
              "              max_cat_threshold=None, max_cat_to_onehot=None,\n",
              "              max_delta_step=None, max_depth=None, max_leaves=None,\n",
              "              min_child_weight=None, missing=nan, monotone_constraints=None,\n",
              "              multi_strategy=None, n_estimators=None, n_jobs=None,\n",
              "              num_parallel_tree=None, random_state=None, ...)</pre></div></div></div></div></div></div></div></div></div></div>"
            ]
          },
          "metadata": {},
          "execution_count": 152
        }
      ]
    },
    {
      "cell_type": "code",
      "source": [
        "xgb_f1_predictions = xgb_f1.predict(X_test)"
      ],
      "metadata": {
        "id": "FeF8fhg8vamn"
      },
      "execution_count": 158,
      "outputs": []
    },
    {
      "cell_type": "code",
      "source": [
        "print(f\"Accuracy: {accuracy_score(y_test, xgb_f1_predictions)}\")"
      ],
      "metadata": {
        "colab": {
          "base_uri": "https://localhost:8080/"
        },
        "id": "TuYmWCTbvajX",
        "outputId": "7a397c33-a9cd-42cc-a61d-e4943e1b4809"
      },
      "execution_count": 159,
      "outputs": [
        {
          "output_type": "stream",
          "name": "stdout",
          "text": [
            "Accuracy: 0.5658870507701084\n"
          ]
        }
      ]
    },
    {
      "cell_type": "code",
      "source": [
        "print(\"Best parameters found: \", xgb_f1.best_params_)\n",
        "print(\"Lowest RMSE found: \", np.sqrt(np.abs(xgb_f1.best_score_)))"
      ],
      "metadata": {
        "colab": {
          "base_uri": "https://localhost:8080/"
        },
        "id": "uE76PlPtwNQA",
        "outputId": "f35906e5-9084-4a80-c915-ee6d2079ad9d"
      },
      "execution_count": 160,
      "outputs": [
        {
          "output_type": "stream",
          "name": "stdout",
          "text": [
            "Best parameters found:  {'subsample': 0.6, 'n_estimators': 10, 'max_depth': 4, 'learning_rate': 1.0, 'colsample_bytree': 0.8}\n",
            "Lowest RMSE found:  0.5225968446852519\n"
          ]
        }
      ]
    },
    {
      "cell_type": "code",
      "source": [
        "from sklearn.metrics import confusion_matrix, classification_report\n",
        "print(f\"Confusion Matrix \\n {confusion_matrix(y_test, xgb_f1_predictions)}\")\n",
        "print(f\"Classification Report \\n {classification_report(y_test, xgb_f1_predictions)}\")"
      ],
      "metadata": {
        "colab": {
          "base_uri": "https://localhost:8080/"
        },
        "id": "fBLJzWlhwSNa",
        "outputId": "d4985343-4387-4d17-a754-f1489328de26"
      },
      "execution_count": 161,
      "outputs": [
        {
          "output_type": "stream",
          "name": "stdout",
          "text": [
            "Confusion Matrix \n",
            " [[857 268]\n",
            " [493 135]]\n",
            "Classification Report \n",
            "               precision    recall  f1-score   support\n",
            "\n",
            "           0       0.63      0.76      0.69      1125\n",
            "           1       0.33      0.21      0.26       628\n",
            "\n",
            "    accuracy                           0.57      1753\n",
            "   macro avg       0.48      0.49      0.48      1753\n",
            "weighted avg       0.53      0.57      0.54      1753\n",
            "\n"
          ]
        }
      ]
    }
  ],
  "metadata": {
    "colab": {
      "provenance": []
    },
    "kernelspec": {
      "display_name": "Python 3",
      "name": "python3"
    },
    "language_info": {
      "name": "python"
    }
  },
  "nbformat": 4,
  "nbformat_minor": 0
}